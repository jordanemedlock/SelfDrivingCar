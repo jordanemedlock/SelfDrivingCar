{
 "cells": [
  {
   "cell_type": "code",
   "execution_count": 5,
   "metadata": {},
   "outputs": [],
   "source": [
    "import requests\n",
    "from IPython.display import display\n",
    "from ipywidgets import widgets"
   ]
  },
  {
   "cell_type": "code",
   "execution_count": 2,
   "metadata": {},
   "outputs": [],
   "source": [
    "server = 'http://10.0.0.230:3000'"
   ]
  },
  {
   "cell_type": "code",
   "execution_count": 10,
   "metadata": {},
   "outputs": [],
   "source": [
    "def forward():\n",
    "    try:\n",
    "        return requests.get(server + '/forward')\n",
    "    except:\n",
    "        pass\n",
    "    \n",
    "def backward():\n",
    "    try:\n",
    "        return requests.get(server + '/backward')\n",
    "    except:\n",
    "        pass\n",
    "    \n",
    "def stop():\n",
    "    try:\n",
    "        return requests.get(server + '/stop')\n",
    "    except:\n",
    "        pass\n",
    "    \n",
    "def left():\n",
    "    try:\n",
    "        return requests.get(server + '/left')\n",
    "    except:\n",
    "        pass\n",
    "    \n",
    "def right():\n",
    "    try:\n",
    "        return requests.get(server + '/right')\n",
    "    except:\n",
    "        pass"
   ]
  },
  {
   "cell_type": "code",
   "execution_count": 11,
   "metadata": {},
   "outputs": [
    {
     "data": {
      "application/vnd.jupyter.widget-view+json": {
       "model_id": "c74dd5ff24aa43e4b295c6b08082a318",
       "version_major": 2,
       "version_minor": 0
      },
      "text/plain": [
       "VBox(children=(HBox(children=(Button(style=ButtonStyle()), Button(description='Forward', style=ButtonStyle()),…"
      ]
     },
     "metadata": {},
     "output_type": "display_data"
    }
   ],
   "source": [
    "forward_button = widgets.Button(description='Forward')\n",
    "forward_button.on_click(lambda b: forward())\n",
    "\n",
    "backward_button = widgets.Button(description='Backward')\n",
    "backward_button.on_click(lambda b: backward())\n",
    "\n",
    "stop_button = widgets.Button(description='Stop')\n",
    "stop_button.on_click(lambda b: stop())\n",
    "\n",
    "left_button = widgets.Button(description='Left')\n",
    "left_button.on_click(lambda b: left())\n",
    "\n",
    "right_button = widgets.Button(description='Right')\n",
    "right_button.on_click(lambda b: right())\n",
    "\n",
    "empty = widgets.Button()\n",
    "\n",
    "box = widgets.VBox([\n",
    "    widgets.HBox([empty, forward_button, empty]),\n",
    "    widgets.HBox([left_button, stop_button, right_button]),\n",
    "    widgets.HBox([empty, backward_button, empty])\n",
    "])\n",
    "display(box)"
   ]
  },
  {
   "cell_type": "code",
   "execution_count": null,
   "metadata": {},
   "outputs": [],
   "source": []
  }
 ],
 "metadata": {
  "kernelspec": {
   "display_name": "Python 3",
   "language": "python",
   "name": "python3"
  },
  "language_info": {
   "codemirror_mode": {
    "name": "ipython",
    "version": 3
   },
   "file_extension": ".py",
   "mimetype": "text/x-python",
   "name": "python",
   "nbconvert_exporter": "python",
   "pygments_lexer": "ipython3",
   "version": "3.7.0"
  }
 },
 "nbformat": 4,
 "nbformat_minor": 2
}
