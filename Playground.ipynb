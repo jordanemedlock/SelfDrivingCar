{
 "cells": [
  {
   "cell_type": "code",
   "execution_count": 5,
   "metadata": {},
   "outputs": [],
   "source": [
    "import requests\n",
    "from IPython.display import display\n",
    "from ipywidgets import widgets"
   ]
  },
  {
   "cell_type": "code",
   "execution_count": 2,
   "metadata": {},
   "outputs": [],
   "source": [
    "server = 'http://10.0.0.230:3000'"
   ]
  },
  {
   "cell_type": "code",
   "execution_count": 20,
   "metadata": {},
   "outputs": [],
   "source": [
    "speed = 0.8\n",
    "\n",
    "def forward(duration=0.5):\n",
    "    global speed\n",
    "    try:\n",
    "        return requests.get(server + '/forward', {'speed': speed, 'duration': duration})\n",
    "    except:\n",
    "        pass\n",
    "    \n",
    "def backward(duration=0.5):\n",
    "    global speed\n",
    "    try:\n",
    "        return requests.get(server + '/backward', {'speed': speed, 'duration': duration})\n",
    "    except:\n",
    "        pass\n",
    "    \n",
    "def stop():\n",
    "    global speed\n",
    "    try:\n",
    "        return requests.get(server + '/stop', {'speed': speed})\n",
    "    except:\n",
    "        pass\n",
    "    \n",
    "def left():\n",
    "    global speed\n",
    "    try:\n",
    "        return requests.get(server + '/left', {'speed': speed})\n",
    "    except:\n",
    "        pass\n",
    "    \n",
    "def right():\n",
    "    global speed\n",
    "    try:\n",
    "        return requests.get(server + '/right', {'speed': speed})\n",
    "    except:\n",
    "        pass"
   ]
  },
  {
   "cell_type": "code",
   "execution_count": 21,
   "metadata": {},
   "outputs": [
    {
     "data": {
      "application/vnd.jupyter.widget-view+json": {
       "model_id": "d836ca8c37bb4a4897b66c8dd2f3b143",
       "version_major": 2,
       "version_minor": 0
      },
      "text/plain": [
       "VBox(children=(HBox(children=(Button(style=ButtonStyle()), Button(description='Forward', style=ButtonStyle()),…"
      ]
     },
     "metadata": {},
     "output_type": "display_data"
    }
   ],
   "source": [
    "forward_button = widgets.Button(description='Forward')\n",
    "forward_button.on_click(lambda b: forward())\n",
    "\n",
    "backward_button = widgets.Button(description='Backward')\n",
    "backward_button.on_click(lambda b: backward())\n",
    "\n",
    "stop_button = widgets.Button(description='Stop')\n",
    "stop_button.on_click(lambda b: stop())\n",
    "\n",
    "left_button = widgets.Button(description='Left')\n",
    "left_button.on_click(lambda b: left())\n",
    "\n",
    "right_button = widgets.Button(description='Right')\n",
    "right_button.on_click(lambda b: right())\n",
    "\n",
    "speed_slider = widgets.FloatSlider(value=0.8, min=0.0, max=1.0)\n",
    "def speed_changed(v):\n",
    "    global speed\n",
    "    speed = v['new']\n",
    "speed_slider.observe(speed_changed, 'value')\n",
    "\n",
    "empty = widgets.Button()\n",
    "\n",
    "forward_forever = widgets.Button(description='Forever')\n",
    "forward_forever.on_click(lambda b: forward('forever'))\n",
    "\n",
    "backward_forever = widgets.Button(description='Forever')\n",
    "backward_forever.on_click(lambda b: backward('forever'))\n",
    "\n",
    "box = widgets.VBox([\n",
    "    widgets.HBox([empty, forward_button, forward_forever]),\n",
    "    widgets.HBox([left_button, stop_button, right_button]),\n",
    "    widgets.HBox([empty, backward_button, backward_forever]),\n",
    "    speed_slider\n",
    "])\n",
    "display(box)"
   ]
  },
  {
   "cell_type": "code",
   "execution_count": null,
   "metadata": {},
   "outputs": [],
   "source": []
  }
 ],
 "metadata": {
  "kernelspec": {
   "display_name": "Python 3",
   "language": "python",
   "name": "python3"
  },
  "language_info": {
   "codemirror_mode": {
    "name": "ipython",
    "version": 3
   },
   "file_extension": ".py",
   "mimetype": "text/x-python",
   "name": "python",
   "nbconvert_exporter": "python",
   "pygments_lexer": "ipython3",
   "version": "3.7.0"
  }
 },
 "nbformat": 4,
 "nbformat_minor": 2
}
