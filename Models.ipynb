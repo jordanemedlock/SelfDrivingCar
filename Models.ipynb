{
 "cells": [
  {
   "cell_type": "code",
   "execution_count": 1,
   "metadata": {},
   "outputs": [],
   "source": [
    "from solid.utils import *\n",
    "from solid.objects import *\n",
    "from solid.solidpython import *\n",
    "import viewscad\n",
    "import subprocess\n",
    "import traceback\n",
    "\n",
    "r = viewscad.Renderer(openscad_exec='C:\\Program Files\\OpenSCAD\\openscad')\n"
   ]
  },
  {
   "cell_type": "code",
   "execution_count": 2,
   "metadata": {},
   "outputs": [],
   "source": [
    "move = translate"
   ]
  },
  {
   "cell_type": "code",
   "execution_count": 8,
   "metadata": {},
   "outputs": [
    {
     "data": {
      "application/vnd.jupyter.widget-view+json": {
       "model_id": "b619adab97d6405c84a2e0037c7f6e0b",
       "version_major": 2,
       "version_minor": 0
      },
      "text/plain": [
       "VBox(children=(HTML(value=''), Renderer(background='#cccc88', background_opacity=0.0, camera=PerspectiveCamera…"
      ]
     },
     "metadata": {},
     "output_type": "display_data"
    }
   ],
   "source": [
    "x_dist = 49\n",
    "y_dist = 58\n",
    "raspberrypi_locations = [(0,0), (0,y_dist), (x_dist,y_dist), (x_dist,0)]\n",
    "peg = cylinder(d=8,h=10)\n",
    "hole = cylinder(d=2.5, h=10)\n",
    "raspberrypi_interface = union()(*[move([x,y,0])(peg) for x,y in raspberrypi_locations])\n",
    "raspberrypi_interface += move([-4,-4,0])(cube([x_dist+8, y_dist+8,4]))\n",
    "raspberrypi_interface -= union()(*[move([x,y,0])(hole) for x,y in raspberrypi_locations])\n",
    "\n",
    "car_locations_left = [(0,0), (30, 0)]\n",
    "car_locations_right = [(0,0), (46, 0)]\n",
    "r.render(raspberrypi_interface)"
   ]
  },
  {
   "cell_type": "code",
   "execution_count": null,
   "metadata": {},
   "outputs": [],
   "source": []
  }
 ],
 "metadata": {
  "kernelspec": {
   "display_name": "Python 3",
   "language": "python",
   "name": "python3"
  },
  "language_info": {
   "codemirror_mode": {
    "name": "ipython",
    "version": 3
   },
   "file_extension": ".py",
   "mimetype": "text/x-python",
   "name": "python",
   "nbconvert_exporter": "python",
   "pygments_lexer": "ipython3",
   "version": "3.7.0"
  }
 },
 "nbformat": 4,
 "nbformat_minor": 2
}
